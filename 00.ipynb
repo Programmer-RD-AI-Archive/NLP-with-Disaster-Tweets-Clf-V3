{
 "cells": [
  {
   "cell_type": "code",
   "execution_count": 1,
   "id": "e0102519-ec59-4546-adb2-93746582abc4",
   "metadata": {},
   "outputs": [],
   "source": [
    "import nltk\n",
    "from nltk.stem.porter import *\n",
    "from torch.nn import *\n",
    "from torch.optim import *\n",
    "import numpy as np\n",
    "import pandas as pd\n",
    "import torch,torchvision\n",
    "import random\n",
    "from tqdm import *\n",
    "from torch.utils.data import Dataset,DataLoader\n",
    "stemmer = PorterStemmer()"
   ]
  },
  {
   "cell_type": "code",
   "execution_count": 2,
   "id": "cccedbc9-ed45-4dae-8691-d5ef7d3792dc",
   "metadata": {},
   "outputs": [],
   "source": [
    "def tokenize(sentence):\n",
    "    return nltk.word_tokenize(sentence)"
   ]
  },
  {
   "cell_type": "code",
   "execution_count": 3,
   "id": "905944b3-a88c-4138-86d6-7b09696f59ca",
   "metadata": {},
   "outputs": [
    {
     "data": {
      "text/plain": [
       "['hi', 'how', 'are', 'you', '?']"
      ]
     },
     "execution_count": 3,
     "metadata": {},
     "output_type": "execute_result"
    }
   ],
   "source": [
    "tokenize('hi how are you ? ')"
   ]
  },
  {
   "cell_type": "code",
   "execution_count": 4,
   "id": "6512788d-3d5c-4640-b9a6-93e3554ec8f5",
   "metadata": {},
   "outputs": [],
   "source": [
    "def stem(word):\n",
    "    return stemmer.stem(word.lower())"
   ]
  },
  {
   "cell_type": "code",
   "execution_count": 5,
   "id": "8c368504-7b7d-4644-9df6-0df5624d4b7b",
   "metadata": {},
   "outputs": [
    {
     "data": {
      "text/plain": [
       "'hi'"
      ]
     },
     "execution_count": 5,
     "metadata": {},
     "output_type": "execute_result"
    }
   ],
   "source": [
    "stem('hi')"
   ]
  },
  {
   "cell_type": "code",
   "execution_count": 6,
   "id": "620e3239-e0af-4b48-913d-79cb63904e57",
   "metadata": {},
   "outputs": [],
   "source": [
    "def bag_of_words(tokenized_words,all_words):\n",
    "    tokenized_words = [stem(w) for w in tokenized_words]\n",
    "    bag = np.zeros(len(all_words),dtype=np.float32)\n",
    "    for idx,w in enumerate(all_words):\n",
    "        if w in tokenized_words:\n",
    "            bag[idx] = 1.0\n",
    "    return bag"
   ]
  },
  {
   "cell_type": "code",
   "execution_count": 7,
   "id": "c8276559-c3f6-4e5f-a030-10a12e97521e",
   "metadata": {},
   "outputs": [
    {
     "data": {
      "text/plain": [
       "array([1., 0., 0.], dtype=float32)"
      ]
     },
     "execution_count": 7,
     "metadata": {},
     "output_type": "execute_result"
    }
   ],
   "source": [
    "bag_of_words(['fgwerg','test'],['test','gwerg','fgedgw'])"
   ]
  },
  {
   "cell_type": "code",
   "execution_count": 8,
   "id": "b41e164f-b570-4c1b-a587-2b9d1f6cad77",
   "metadata": {},
   "outputs": [],
   "source": [
    "data = pd.read_csv('./data.csv')"
   ]
  },
  {
   "cell_type": "code",
   "execution_count": 9,
   "id": "2251be88-af05-4d8c-a2ed-6fb241255b65",
   "metadata": {},
   "outputs": [],
   "source": [
    "X = data['text'].tolist()"
   ]
  },
  {
   "cell_type": "code",
   "execution_count": 10,
   "id": "f809f800-6ca8-404f-8f3a-1b4653679d67",
   "metadata": {},
   "outputs": [],
   "source": [
    "y = data['target'].tolist()"
   ]
  },
  {
   "cell_type": "code",
   "execution_count": 11,
   "id": "1862aac2-2704-4c23-9141-0cf26c2b7208",
   "metadata": {},
   "outputs": [],
   "source": [
    "all_words = []\n",
    "all_data = []\n",
    "tags = []"
   ]
  },
  {
   "cell_type": "code",
   "execution_count": 12,
   "id": "26d60db8-6c81-42a6-825e-4a2163a06a3c",
   "metadata": {},
   "outputs": [],
   "source": [
    "for X_batch,y_batch in zip(X,y):\n",
    "    X_batch = tokenize(X_batch)\n",
    "    new_X = []\n",
    "    for X_batch_in_X_batch in X_batch:\n",
    "        X_batch_in_X_batch = stem(X_batch_in_X_batch)\n",
    "        new_X.append(X_batch_in_X_batch)\n",
    "    all_words.extend(new_X)\n",
    "    all_data.append((new_X,y_batch))\n",
    "    tags.append(y_batch)"
   ]
  },
  {
   "cell_type": "code",
   "execution_count": 13,
   "id": "9dafdafa-75d0-4ffe-a43a-00c0673f9cad",
   "metadata": {},
   "outputs": [],
   "source": [
    "all_words = sorted(set(all_words))"
   ]
  },
  {
   "cell_type": "code",
   "execution_count": 14,
   "id": "abf27261-a09d-4d81-a426-0507fe8d589b",
   "metadata": {},
   "outputs": [],
   "source": [
    "tags = sorted(set(tags))"
   ]
  },
  {
   "cell_type": "code",
   "execution_count": 15,
   "id": "b9b63b45-adfd-40ea-bb7c-d5a514af28b2",
   "metadata": {},
   "outputs": [],
   "source": [
    "np.random.shuffle(all_words)\n",
    "np.random.shuffle(all_data)"
   ]
  },
  {
   "cell_type": "code",
   "execution_count": 16,
   "id": "b30cdf9b-a528-491e-b555-5fc71c37c025",
   "metadata": {},
   "outputs": [],
   "source": [
    "X = []\n",
    "y = []"
   ]
  },
  {
   "cell_type": "code",
   "execution_count": 17,
   "id": "4a4f5217-be90-4414-af3e-c2512791c207",
   "metadata": {},
   "outputs": [],
   "source": [
    "for sentence,tag in all_data:\n",
    "    bag = bag_of_words(sentence,all_words)\n",
    "    X.append(bag)\n",
    "    tag = tags.index(tag)\n",
    "    y.append(tag)"
   ]
  },
  {
   "cell_type": "code",
   "execution_count": 18,
   "id": "887eaa4d-0f81-4e56-a803-d007fdee99e0",
   "metadata": {},
   "outputs": [],
   "source": [
    "from sklearn.model_selection import *"
   ]
  },
  {
   "cell_type": "code",
   "execution_count": 19,
   "id": "eacd62f3-4793-4cb9-ad2f-8f59e3a332d2",
   "metadata": {},
   "outputs": [],
   "source": [
    "X_train,X_test,y_train,y_test = train_test_split(X,y,test_size=0.25,shuffle=False)"
   ]
  },
  {
   "cell_type": "code",
   "execution_count": 20,
   "id": "f6b7ed97-0e36-453c-a904-5c0c87e49924",
   "metadata": {},
   "outputs": [],
   "source": [
    "device = 'cuda'"
   ]
  },
  {
   "cell_type": "code",
   "execution_count": 21,
   "id": "b258b716-e7d3-43a2-8c91-90e7599be8c5",
   "metadata": {},
   "outputs": [],
   "source": [
    "X_train = torch.from_numpy(np.array(X_train)).to(device).float()\n",
    "X_test = torch.from_numpy(np.array(X_test)).to(device).float()\n",
    "y_train = torch.from_numpy(np.array(y_train)).to(device).float()\n",
    "y_test = torch.from_numpy(np.array(y_test)).to(device).float()"
   ]
  },
  {
   "cell_type": "code",
   "execution_count": 22,
   "id": "0bc866f8-bc8f-4d6d-b3bb-24878e1c579c",
   "metadata": {},
   "outputs": [],
   "source": [
    "def get_loss(model,X,y,criterion):\n",
    "    preds = model(X)\n",
    "    loss = criterion(preds.view(-1,1),y.view(-1,1))\n",
    "    return loss.item()"
   ]
  },
  {
   "cell_type": "code",
   "execution_count": 23,
   "id": "841959b6-426c-476d-b41d-abdcaba0f8bf",
   "metadata": {},
   "outputs": [],
   "source": [
    "def get_accuracy(model,X,y):\n",
    "    total = 0\n",
    "    correct = 0\n",
    "    preds = model(X)\n",
    "    for pred,y_batch in zip(preds,y):\n",
    "        pred = int(torch.round(pred))\n",
    "        y_batch = int(torch.round(y_batch))\n",
    "        if pred == y_batch:\n",
    "            correct += 1\n",
    "        total += 1\n",
    "    acc = round(correct/total,3)*100\n",
    "    return acc"
   ]
  },
  {
   "cell_type": "code",
   "execution_count": 24,
   "id": "23d2cb00-7ea9-4f7f-af69-6c566137ef11",
   "metadata": {},
   "outputs": [],
   "source": [
    "class Model(Module):\n",
    "    def __init__(self,hidden):\n",
    "        super().__init__()\n",
    "        self.activation = ReLU()\n",
    "        self.linear1 = Linear(len(all_words),hidden)\n",
    "        self.linear2 = Linear(hidden,hidden)\n",
    "        self.linear3 = Linear(hidden,hidden)\n",
    "        self.linear4 = Linear(hidden,hidden)\n",
    "        self.linear5 = Linear(hidden,hidden)\n",
    "        self.output = Linear(hidden,1)\n",
    "        self.output_ac = Sigmoid()\n",
    "    \n",
    "    def forward(self,X):\n",
    "        preds = self.activation(self.linear1(X))\n",
    "        preds = self.activation(self.linear2(preds))\n",
    "        preds = self.activation(self.linear3(preds))\n",
    "        preds = self.activation(self.linear4(preds))\n",
    "        preds = self.activation(self.linear5(preds))\n",
    "        preds = self.output_ac(self.output(preds))\n",
    "        return preds"
   ]
  },
  {
   "cell_type": "code",
   "execution_count": 25,
   "id": "5f002e4c-6df0-4165-9b27-6c8ec0d306a1",
   "metadata": {},
   "outputs": [],
   "source": [
    "model = Model(512).to(device)"
   ]
  },
  {
   "cell_type": "code",
   "execution_count": 26,
   "id": "29d57588-08ea-4f3f-9864-2cde0f25ca9b",
   "metadata": {},
   "outputs": [],
   "source": [
    "criterion = BCELoss()"
   ]
  },
  {
   "cell_type": "code",
   "execution_count": 27,
   "id": "56722a68-b408-4da2-a898-853a2ea75948",
   "metadata": {},
   "outputs": [],
   "source": [
    "optimizer = Adam(model.parameters(),lr=0.001)"
   ]
  },
  {
   "cell_type": "code",
   "execution_count": 28,
   "id": "2c1bd162-80d2-43aa-8459-b761779fad87",
   "metadata": {},
   "outputs": [],
   "source": [
    "epochs = 1000"
   ]
  },
  {
   "cell_type": "code",
   "execution_count": 29,
   "id": "2d98fd8c-c8b4-4aea-8292-5a9b44640157",
   "metadata": {},
   "outputs": [],
   "source": [
    "batch_size = 32"
   ]
  },
  {
   "cell_type": "code",
   "execution_count": 30,
   "id": "3635ed0c-c60b-4e38-87d4-f3df0a301b23",
   "metadata": {},
   "outputs": [],
   "source": [
    "PROJECT_NAME = 'NLP-Disaster-Tweets-Clf'"
   ]
  },
  {
   "cell_type": "code",
   "execution_count": 31,
   "id": "cb75cdfb-610d-4d8a-81e9-c9ea89b9f758",
   "metadata": {},
   "outputs": [],
   "source": [
    "import wandb"
   ]
  },
  {
   "cell_type": "code",
   "execution_count": 32,
   "id": "fb0e8c37-ae5f-48f3-9104-88f6a9ab723a",
   "metadata": {},
   "outputs": [
    {
     "name": "stderr",
     "output_type": "stream",
     "text": [
      "\u001b[34m\u001b[1mwandb\u001b[0m: Currently logged in as: \u001b[33mranuga-d\u001b[0m (use `wandb login --relogin` to force relogin)\n",
      "\u001b[34m\u001b[1mwandb\u001b[0m: wandb version 0.12.1 is available!  To upgrade, please run:\n",
      "\u001b[34m\u001b[1mwandb\u001b[0m:  $ pip install wandb --upgrade\n"
     ]
    },
    {
     "data": {
      "text/html": [
       "\n",
       "                Tracking run with wandb version 0.12.0<br/>\n",
       "                Syncing run <strong style=\"color:#cdcd00\">baseline</strong> to <a href=\"https://wandb.ai\" target=\"_blank\">Weights & Biases</a> <a href=\"https://docs.wandb.com/integrations/jupyter.html\" target=\"_blank\">(Documentation)</a>.<br/>\n",
       "                Project page: <a href=\"https://wandb.ai/ranuga-d/NLP-Disaster-Tweets-Clf\" target=\"_blank\">https://wandb.ai/ranuga-d/NLP-Disaster-Tweets-Clf</a><br/>\n",
       "                Run page: <a href=\"https://wandb.ai/ranuga-d/NLP-Disaster-Tweets-Clf/runs/qn3rz8y3\" target=\"_blank\">https://wandb.ai/ranuga-d/NLP-Disaster-Tweets-Clf/runs/qn3rz8y3</a><br/>\n",
       "                Run data is saved locally in <code>/home/indika/Programming/Projects/Python/Artifical-Intelligence/PyTorch/NLP/NLP-with-Disaster-Tweets-Clf-V3/wandb/run-20210903_230513-qn3rz8y3</code><br/><br/>\n",
       "            "
      ],
      "text/plain": [
       "<IPython.core.display.HTML object>"
      ]
     },
     "metadata": {},
     "output_type": "display_data"
    },
    {
     "name": "stderr",
     "output_type": "stream",
     "text": [
      "100%|██████████| 1000/1000 [15:43<00:00,  1.06it/s]\n"
     ]
    },
    {
     "data": {
      "text/html": [
       "<br/>Waiting for W&B process to finish, PID 44112<br/>Program ended successfully."
      ],
      "text/plain": [
       "<IPython.core.display.HTML object>"
      ]
     },
     "metadata": {},
     "output_type": "display_data"
    },
    {
     "data": {
      "application/vnd.jupyter.widget-view+json": {
       "model_id": "",
       "version_major": 2,
       "version_minor": 0
      },
      "text/plain": [
       "VBox(children=(Label(value=' 0.02MB of 0.02MB uploaded (0.00MB deduped)\\r'), FloatProgress(value=1.0, max=1.0)…"
      ]
     },
     "metadata": {},
     "output_type": "display_data"
    },
    {
     "data": {
      "text/html": [
       "Find user logs for this run at: <code>/home/indika/Programming/Projects/Python/Artifical-Intelligence/PyTorch/NLP/NLP-with-Disaster-Tweets-Clf-V3/wandb/run-20210903_230513-qn3rz8y3/logs/debug.log</code>"
      ],
      "text/plain": [
       "<IPython.core.display.HTML object>"
      ]
     },
     "metadata": {},
     "output_type": "display_data"
    },
    {
     "data": {
      "text/html": [
       "Find internal logs for this run at: <code>/home/indika/Programming/Projects/Python/Artifical-Intelligence/PyTorch/NLP/NLP-with-Disaster-Tweets-Clf-V3/wandb/run-20210903_230513-qn3rz8y3/logs/debug-internal.log</code>"
      ],
      "text/plain": [
       "<IPython.core.display.HTML object>"
      ]
     },
     "metadata": {},
     "output_type": "display_data"
    },
    {
     "data": {
      "text/html": [
       "<h3>Run summary:</h3><br/><style>\n",
       "    table.wandb td:nth-child(1) { padding: 0 10px; text-align: right }\n",
       "    </style><table class=\"wandb\">\n",
       "<tr><td>Loss</td><td>0.30967</td></tr><tr><td>_runtime</td><td>950</td></tr><tr><td>_timestamp</td><td>1630691464</td></tr><tr><td>_step</td><td>3999</td></tr><tr><td>Val Loss</td><td>21.70345</td></tr><tr><td>Acc</td><td>98.8</td></tr><tr><td>Val Acc</td><td>73.7</td></tr></table>"
      ],
      "text/plain": [
       "<IPython.core.display.HTML object>"
      ]
     },
     "metadata": {},
     "output_type": "display_data"
    },
    {
     "data": {
      "text/html": [
       "<h3>Run history:</h3><br/><style>\n",
       "    table.wandb td:nth-child(1) { padding: 0 10px; text-align: right }\n",
       "    </style><table class=\"wandb\">\n",
       "<tr><td>Loss</td><td>▃▁▁▁▁▁▃▁▂▁▁▂▁▃▂▁▂▁▃▃▃▇▃▃▃▃▃▃▇▆▇▇████████</td></tr><tr><td>_runtime</td><td>▁▁▁▂▂▂▂▂▂▃▃▃▃▃▄▄▄▄▄▄▅▅▅▅▅▆▆▆▆▆▆▇▇▇▇▇████</td></tr><tr><td>_timestamp</td><td>▁▁▁▂▂▂▂▂▂▃▃▃▃▃▄▄▄▄▄▄▅▅▅▅▅▆▆▆▆▆▆▇▇▇▇▇████</td></tr><tr><td>_step</td><td>▁▁▁▂▂▂▂▂▂▃▃▃▃▃▄▄▄▄▄▄▅▅▅▅▅▅▆▆▆▆▆▇▇▇▇▇▇███</td></tr><tr><td>Val Loss</td><td>▁▂▁▃▄▄▄▁▂▄▄▃▄▄▆▃▄▃▆▄▆▇▆▆▇▇▇▅▆▅▄▆▆▇▇█████</td></tr><tr><td>Acc</td><td>▁▇█████▆███▇█████████▇██████▇█▇▇▇▇▇▇▇▇▇▇</td></tr><tr><td>Val Acc</td><td>▆█▇▅▆▇▆▇▇▆▇▇▆▅▁▆▅▄▄▆▄▂▆▄▄▄▄▇▄▅▆▄▄▄▄▂▃▃▃▃</td></tr></table><br/>"
      ],
      "text/plain": [
       "<IPython.core.display.HTML object>"
      ]
     },
     "metadata": {},
     "output_type": "display_data"
    },
    {
     "data": {
      "text/html": [
       "Synced 6 W&B file(s), 0 media file(s), 2 artifact file(s) and 1 other file(s)"
      ],
      "text/plain": [
       "<IPython.core.display.HTML object>"
      ]
     },
     "metadata": {},
     "output_type": "display_data"
    },
    {
     "data": {
      "text/html": [
       "\n",
       "                    <br/>Synced <strong style=\"color:#cdcd00\">baseline</strong>: <a href=\"https://wandb.ai/ranuga-d/NLP-Disaster-Tweets-Clf/runs/qn3rz8y3\" target=\"_blank\">https://wandb.ai/ranuga-d/NLP-Disaster-Tweets-Clf/runs/qn3rz8y3</a><br/>\n",
       "                "
      ],
      "text/plain": [
       "<IPython.core.display.HTML object>"
      ]
     },
     "metadata": {},
     "output_type": "display_data"
    }
   ],
   "source": [
    "wandb.init(project=PROJECT_NAME,name='baseline')\n",
    "wandb.watch(model)\n",
    "for _ in tqdm(range(epochs)):\n",
    "    for idx in range(0,len(X_train),batch_size):\n",
    "        X_batch = X_train[idx:idx+batch_size].to(device).float()\n",
    "        y_batch = y_train[idx:idx+batch_size].to(device).float()\n",
    "        preds = model(X_batch)\n",
    "        preds = preds.to(device)\n",
    "        loss = criterion(preds.view(-1,1),y_batch.view(-1,1))\n",
    "        optimizer.zero_grad()\n",
    "        loss.backward()\n",
    "        optimizer.step()\n",
    "    wandb.log({'Loss':get_loss(model,X_train,y_train,criterion)})\n",
    "    wandb.log({'Val Loss':get_loss(model,X_test,y_test,criterion)})\n",
    "    wandb.log({'Acc':get_accuracy(model,X_train,y_train)})\n",
    "    wandb.log({'Val Acc':get_accuracy(model,X_test,y_test)})\n",
    "wandb.watch(model)\n",
    "wandb.finish()"
   ]
  },
  {
   "cell_type": "code",
   "execution_count": null,
   "id": "c0776a29-103e-4531-bd78-16cba8a3edbf",
   "metadata": {},
   "outputs": [],
   "source": []
  }
 ],
 "metadata": {
  "kernelspec": {
   "display_name": "Python 3.7.3 64-bit ('base': conda)",
   "language": "python",
   "name": "python373jvsc74a57bd0210f9608a45c0278a93c9e0b10db32a427986ab48cfc0d20c139811eb78c4bbc"
  },
  "language_info": {
   "codemirror_mode": {
    "name": "ipython",
    "version": 3
   },
   "file_extension": ".py",
   "mimetype": "text/x-python",
   "name": "python",
   "nbconvert_exporter": "python",
   "pygments_lexer": "ipython3",
   "version": "3.7.7"
  }
 },
 "nbformat": 4,
 "nbformat_minor": 5
}
